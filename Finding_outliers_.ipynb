{
  "nbformat": 4,
  "nbformat_minor": 0,
  "metadata": {
    "colab": {
      "provenance": []
    },
    "kernelspec": {
      "name": "python3",
      "display_name": "Python 3"
    },
    "language_info": {
      "name": "python"
    }
  },
  "cells": [
    {
      "cell_type": "code",
      "execution_count": 34,
      "metadata": {
        "id": "zxy-J939raDJ"
      },
      "outputs": [],
      "source": [
        "import numpy as np\n",
        "import matplotlib.pyplot as plt\n",
        "%matplotlib inline"
      ]
    },
    {
      "cell_type": "code",
      "source": [
        "dataset=[-4,-6-7,20,19,23,23,23,23,44,12,13,14,14,14,14,26,25,90,29,999,45,3,12,25,14,13,15,16.171,12,13,14,15,11,10,10,19,10]"
      ],
      "metadata": {
        "id": "0Sb-p3nSr1hg"
      },
      "execution_count": 35,
      "outputs": []
    },
    {
      "cell_type": "code",
      "source": [
        "plt.hist(dataset)"
      ],
      "metadata": {
        "colab": {
          "base_uri": "https://localhost:8080/",
          "height": 499
        },
        "id": "Kcaqyh1WsQjo",
        "outputId": "c74d6998-7d3d-4013-ccf3-0092a8bd771b"
      },
      "execution_count": 36,
      "outputs": [
        {
          "output_type": "execute_result",
          "data": {
            "text/plain": [
              "(array([35.,  1.,  0.,  0.,  0.,  0.,  0.,  0.,  0.,  1.]),\n",
              " array([-13. ,  88.2, 189.4, 290.6, 391.8, 493. , 594.2, 695.4, 796.6,\n",
              "        897.8, 999. ]),\n",
              " <BarContainer object of 10 artists>)"
            ]
          },
          "metadata": {},
          "execution_count": 36
        },
        {
          "output_type": "display_data",
          "data": {
            "text/plain": [
              "<Figure size 640x480 with 1 Axes>"
            ],
            "image/png": "[encoded data removed]"
          },
          "metadata": {}
        }
      ]
    },
    {
      "cell_type": "code",
      "source": [
        "# zscore\n",
        "\n",
        "outliers=[]\n",
        "\n",
        "def detect_outliers(data):\n",
        "   threshold=3 # 3rd sdt deviation\n",
        "   mean=np.mean(data)\n",
        "   std=np.std(data)\n",
        "\n",
        "   for i in data:\n",
        "    z_score=(i-mean/std)\n",
        "    if np.abs(z_score)> threshold:\n",
        "      outliers.append(i)\n",
        "\n",
        "    return outliers\n",
        "\n"
      ],
      "metadata": {
        "id": "ZF_5a5t2sTOW"
      },
      "execution_count": 37,
      "outputs": []
    },
    {
      "cell_type": "code",
      "source": [
        "detect_outliers(dataset)"
      ],
      "metadata": {
        "colab": {
          "base_uri": "https://localhost:8080/"
        },
        "id": "_Q7NIgDGtS93",
        "outputId": "ba973e52-59be-4635-9861-25948a9669e4"
      },
      "execution_count": 38,
      "outputs": [
        {
          "output_type": "execute_result",
          "data": {
            "text/plain": [
              "[-4]"
            ]
          },
          "metadata": {},
          "execution_count": 38
        }
      ]
    },
    {
      "cell_type": "code",
      "source": [
        "#IQR"
      ],
      "metadata": {
        "id": "rqj-wriCtibg"
      },
      "execution_count": 39,
      "outputs": []
    },
    {
      "cell_type": "code",
      "source": [
        "# SORTING DATA\n",
        "\n",
        "dataset=sorted(dataset)"
      ],
      "metadata": {
        "id": "8yoqagUTuQZk"
      },
      "execution_count": 40,
      "outputs": []
    },
    {
      "cell_type": "code",
      "source": [
        "dataset"
      ],
      "metadata": {
        "colab": {
          "base_uri": "https://localhost:8080/"
        },
        "id": "P8rwNdixudW_",
        "outputId": "cebfdbe1-cb05-424b-8dcc-1fed0718ad6d"
      },
      "execution_count": 41,
      "outputs": [
        {
          "output_type": "execute_result",
          "data": {
            "text/plain": [
              "[-13,\n",
              " -4,\n",
              " 3,\n",
              " 10,\n",
              " 10,\n",
              " 10,\n",
              " 11,\n",
              " 12,\n",
              " 12,\n",
              " 12,\n",
              " 13,\n",
              " 13,\n",
              " 13,\n",
              " 14,\n",
              " 14,\n",
              " 14,\n",
              " 14,\n",
              " 14,\n",
              " 14,\n",
              " 15,\n",
              " 15,\n",
              " 16.171,\n",
              " 19,\n",
              " 19,\n",
              " 20,\n",
              " 23,\n",
              " 23,\n",
              " 23,\n",
              " 23,\n",
              " 25,\n",
              " 25,\n",
              " 26,\n",
              " 29,\n",
              " 44,\n",
              " 45,\n",
              " 90,\n",
              " 999]"
            ]
          },
          "metadata": {},
          "execution_count": 41
        }
      ]
    },
    {
      "cell_type": "code",
      "source": [
        "# q1 and q3\n",
        "\n",
        "q1,q3=np.percentile(dataset,[25,75])\n",
        "print(q1,q3)"
      ],
      "metadata": {
        "colab": {
          "base_uri": "https://localhost:8080/"
        },
        "id": "ocqrVBFsuet8",
        "outputId": "0c712d07-3d82-4e79-c53a-e95391693f12"
      },
      "execution_count": 42,
      "outputs": [
        {
          "output_type": "stream",
          "name": "stdout",
          "text": [
            "12.0 23.0\n"
          ]
        }
      ]
    },
    {
      "cell_type": "code",
      "source": [
        "iqr=q3-q1"
      ],
      "metadata": {
        "id": "ZEHTvqm7uuA3"
      },
      "execution_count": 43,
      "outputs": []
    },
    {
      "cell_type": "code",
      "source": [
        "iqr"
      ],
      "metadata": {
        "colab": {
          "base_uri": "https://localhost:8080/"
        },
        "id": "7dgVlQXjuwyP",
        "outputId": "2def4d83-b22a-4e57-d695-bc96be27790c"
      },
      "execution_count": 44,
      "outputs": [
        {
          "output_type": "execute_result",
          "data": {
            "text/plain": [
              "11.0"
            ]
          },
          "metadata": {},
          "execution_count": 44
        }
      ]
    },
    {
      "cell_type": "code",
      "source": [
        "# lower fence and upper fence\n",
        "\n",
        "lower_fence=q1-(1.5*iqr)\n",
        "upper_fence=q1+(1.5*iqr)"
      ],
      "metadata": {
        "id": "pamgkF_fux8y"
      },
      "execution_count": 45,
      "outputs": []
    },
    {
      "cell_type": "code",
      "source": [
        "print(lower_fence,upper_fence)"
      ],
      "metadata": {
        "colab": {
          "base_uri": "https://localhost:8080/"
        },
        "id": "62ktbYDZwPCH",
        "outputId": "c77a9f21-8339-4cb6-9eb8-2d2bb236fed9"
      },
      "execution_count": 46,
      "outputs": [
        {
          "output_type": "stream",
          "name": "stdout",
          "text": [
            "-4.5 28.5\n"
          ]
        }
      ]
    },
    {
      "cell_type": "code",
      "source": [
        "import seaborn as sns"
      ],
      "metadata": {
        "id": "Iqr2RSDlwWVs"
      },
      "execution_count": 47,
      "outputs": []
    },
    {
      "cell_type": "code",
      "source": [
        "sns.boxplot(dataset)"
      ],
      "metadata": {
        "colab": {
          "base_uri": "https://localhost:8080/",
          "height": 428
        },
        "id": "6dP0qDd5wuR5",
        "outputId": "f1c709e8-001f-4dc2-a689-723e1462f7a8"
      },
      "execution_count": 48,
      "outputs": [
        {
          "output_type": "execute_result",
          "data": {
            "text/plain": [
              "<Axes: >"
            ]
          },
          "metadata": {},
          "execution_count": 48
        },
        {
          "output_type": "display_data",
          "data": {
            "text/plain": [
              "<Figure size 640x480 with 1 Axes>"
            ],
            "image/png": "[encoded data removed]"
          },
          "metadata": {}
        }
      ]
    },
    {
      "cell_type": "code",
      "source": [],
      "metadata": {
        "id": "sqEdj9PywyBz"
      },
      "execution_count": null,
      "outputs": []
    }
  ]
}